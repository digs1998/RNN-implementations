{
 "cells": [
  {
   "cell_type": "markdown",
   "metadata": {},
   "source": [
    "# Making Your Model Learn Addition!\n",
    "## Task 1: Introduction\n",
    "\n",
    "Given the string \"54+7\", the model should return a prediction: \"61\"."
   ]
  },
  {
   "cell_type": "code",
   "execution_count": 1,
   "metadata": {},
   "outputs": [
    {
     "name": "stderr",
     "output_type": "stream",
     "text": [
      "C:\\Users\\digvi\\Anaconda3\\lib\\site-packages\\tensorflow\\python\\framework\\dtypes.py:516: FutureWarning: Passing (type, 1) or '1type' as a synonym of type is deprecated; in a future version of numpy, it will be understood as (type, (1,)) / '(1,)type'.\n",
      "  _np_qint8 = np.dtype([(\"qint8\", np.int8, 1)])\n",
      "C:\\Users\\digvi\\Anaconda3\\lib\\site-packages\\tensorflow\\python\\framework\\dtypes.py:517: FutureWarning: Passing (type, 1) or '1type' as a synonym of type is deprecated; in a future version of numpy, it will be understood as (type, (1,)) / '(1,)type'.\n",
      "  _np_quint8 = np.dtype([(\"quint8\", np.uint8, 1)])\n",
      "C:\\Users\\digvi\\Anaconda3\\lib\\site-packages\\tensorflow\\python\\framework\\dtypes.py:518: FutureWarning: Passing (type, 1) or '1type' as a synonym of type is deprecated; in a future version of numpy, it will be understood as (type, (1,)) / '(1,)type'.\n",
      "  _np_qint16 = np.dtype([(\"qint16\", np.int16, 1)])\n",
      "C:\\Users\\digvi\\Anaconda3\\lib\\site-packages\\tensorflow\\python\\framework\\dtypes.py:519: FutureWarning: Passing (type, 1) or '1type' as a synonym of type is deprecated; in a future version of numpy, it will be understood as (type, (1,)) / '(1,)type'.\n",
      "  _np_quint16 = np.dtype([(\"quint16\", np.uint16, 1)])\n",
      "C:\\Users\\digvi\\Anaconda3\\lib\\site-packages\\tensorflow\\python\\framework\\dtypes.py:520: FutureWarning: Passing (type, 1) or '1type' as a synonym of type is deprecated; in a future version of numpy, it will be understood as (type, (1,)) / '(1,)type'.\n",
      "  _np_qint32 = np.dtype([(\"qint32\", np.int32, 1)])\n",
      "C:\\Users\\digvi\\Anaconda3\\lib\\site-packages\\tensorflow\\python\\framework\\dtypes.py:525: FutureWarning: Passing (type, 1) or '1type' as a synonym of type is deprecated; in a future version of numpy, it will be understood as (type, (1,)) / '(1,)type'.\n",
      "  np_resource = np.dtype([(\"resource\", np.ubyte, 1)])\n",
      "C:\\Users\\digvi\\Anaconda3\\lib\\site-packages\\tensorboard\\compat\\tensorflow_stub\\dtypes.py:541: FutureWarning: Passing (type, 1) or '1type' as a synonym of type is deprecated; in a future version of numpy, it will be understood as (type, (1,)) / '(1,)type'.\n",
      "  _np_qint8 = np.dtype([(\"qint8\", np.int8, 1)])\n",
      "C:\\Users\\digvi\\Anaconda3\\lib\\site-packages\\tensorboard\\compat\\tensorflow_stub\\dtypes.py:542: FutureWarning: Passing (type, 1) or '1type' as a synonym of type is deprecated; in a future version of numpy, it will be understood as (type, (1,)) / '(1,)type'.\n",
      "  _np_quint8 = np.dtype([(\"quint8\", np.uint8, 1)])\n",
      "C:\\Users\\digvi\\Anaconda3\\lib\\site-packages\\tensorboard\\compat\\tensorflow_stub\\dtypes.py:543: FutureWarning: Passing (type, 1) or '1type' as a synonym of type is deprecated; in a future version of numpy, it will be understood as (type, (1,)) / '(1,)type'.\n",
      "  _np_qint16 = np.dtype([(\"qint16\", np.int16, 1)])\n",
      "C:\\Users\\digvi\\Anaconda3\\lib\\site-packages\\tensorboard\\compat\\tensorflow_stub\\dtypes.py:544: FutureWarning: Passing (type, 1) or '1type' as a synonym of type is deprecated; in a future version of numpy, it will be understood as (type, (1,)) / '(1,)type'.\n",
      "  _np_quint16 = np.dtype([(\"quint16\", np.uint16, 1)])\n",
      "C:\\Users\\digvi\\Anaconda3\\lib\\site-packages\\tensorboard\\compat\\tensorflow_stub\\dtypes.py:545: FutureWarning: Passing (type, 1) or '1type' as a synonym of type is deprecated; in a future version of numpy, it will be understood as (type, (1,)) / '(1,)type'.\n",
      "  _np_qint32 = np.dtype([(\"qint32\", np.int32, 1)])\n",
      "C:\\Users\\digvi\\Anaconda3\\lib\\site-packages\\tensorboard\\compat\\tensorflow_stub\\dtypes.py:550: FutureWarning: Passing (type, 1) or '1type' as a synonym of type is deprecated; in a future version of numpy, it will be understood as (type, (1,)) / '(1,)type'.\n",
      "  np_resource = np.dtype([(\"resource\", np.ubyte, 1)])\n"
     ]
    },
    {
     "name": "stdout",
     "output_type": "stream",
     "text": [
      "Tested with tensorflow version 2.0.1\n",
      "Using tensorflow version: 1.14.0\n"
     ]
    }
   ],
   "source": [
    "import numpy as np\n",
    "import tensorflow as tf\n",
    "\n",
    "from tensorflow.keras.models import Sequential\n",
    "from tensorflow.keras.layers import TimeDistributed, Dense, Dropout, SimpleRNN, RepeatVector\n",
    "from tensorflow.keras.callbacks import EarlyStopping, LambdaCallback\n",
    "\n",
    "from termcolor import colored\n",
    "\n",
    "print('Tested with tensorflow version 2.0.1')\n",
    "print('Using tensorflow version:', tf.__version__)"
   ]
  },
  {
   "cell_type": "markdown",
   "metadata": {},
   "source": [
    "## Task 2: Generate Data\n",
    "___\n",
    "Note: If you are starting the notebook from this task, you can run cells from all previous tasks in the kernel by going to the top menu and then selecting Kernel > Restart and Run All\n",
    "___"
   ]
  },
  {
   "cell_type": "code",
   "execution_count": 2,
   "metadata": {
    "colab": {
     "base_uri": "https://localhost:8080/",
     "height": 34
    },
    "colab_type": "code",
    "id": "hP-OyQrivBNl",
    "outputId": "70a8ce77-3241-4ea9-dbc7-d9bebb3789f3"
   },
   "outputs": [],
   "source": [
    "all_chars = '0123456789+'"
   ]
  },
  {
   "cell_type": "code",
   "execution_count": 3,
   "metadata": {},
   "outputs": [
    {
     "name": "stdout",
     "output_type": "stream",
     "text": [
      "Number of features: 11\n"
     ]
    }
   ],
   "source": [
    "num_features = len(all_chars)\n",
    "\n",
    "char_to_index = dict((c, i) for i, c in enumerate(all_chars))\n",
    "index_to_char = dict((i, c) for i, c in enumerate(all_chars))\n",
    "\n",
    "print('Number of features: {}'.format(num_features))"
   ]
  },
  {
   "cell_type": "code",
   "execution_count": 4,
   "metadata": {
    "colab": {},
    "colab_type": "code",
    "id": "L2b1Xg9hvBNr"
   },
   "outputs": [
    {
     "data": {
      "text/plain": [
       "('71+92', '163')"
      ]
     },
     "execution_count": 4,
     "metadata": {},
     "output_type": "execute_result"
    }
   ],
   "source": [
    "def generate_data():\n",
    "    first_num = np.random.randint(0,100)\n",
    "    second_num = np.random.randint(0,100)\n",
    "    example = str(first_num) + '+' + str(second_num)\n",
    "    label = str(first_num+second_num)\n",
    "    return example, label\n",
    "\n",
    "generate_data()"
   ]
  },
  {
   "cell_type": "code",
   "execution_count": 5,
   "metadata": {
    "colab": {
     "base_uri": "https://localhost:8080/",
     "height": 377
    },
    "colab_type": "code",
    "id": "iZKl0LtdvBNy",
    "outputId": "34a3c344-5985-4e3b-e1ac-392c18739308"
   },
   "outputs": [
    {
     "name": "stdout",
     "output_type": "stream",
     "text": [
      "WARNING:tensorflow:From C:\\Users\\digvi\\Anaconda3\\lib\\site-packages\\tensorflow\\python\\ops\\init_ops.py:1251: calling VarianceScaling.__init__ (from tensorflow.python.ops.init_ops) with dtype is deprecated and will be removed in a future version.\n",
      "Instructions for updating:\n",
      "Call initializer instance with the dtype argument instead of passing it to the constructor\n",
      "Model: \"sequential\"\n",
      "_________________________________________________________________\n",
      "Layer (type)                 Output Shape              Param #   \n",
      "=================================================================\n",
      "simple_rnn (SimpleRNN)       (None, 128)               17920     \n",
      "_________________________________________________________________\n",
      "repeat_vector (RepeatVector) (None, 5, 128)            0         \n",
      "_________________________________________________________________\n",
      "simple_rnn_1 (SimpleRNN)     (None, 5, 128)            32896     \n",
      "_________________________________________________________________\n",
      "time_distributed (TimeDistri (None, 5, 11)             1419      \n",
      "=================================================================\n",
      "Total params: 52,235\n",
      "Trainable params: 52,235\n",
      "Non-trainable params: 0\n",
      "_________________________________________________________________\n"
     ]
    }
   ],
   "source": [
    "hidden_units = 128\n",
    "max_time_steps = 5\n",
    "\n",
    "model = Sequential()\n",
    "model.add(SimpleRNN(hidden_units, input_shape=(None, num_features)))\n",
    "model.add(RepeatVector(max_time_steps))   \n",
    "model.add(SimpleRNN(hidden_units, return_sequences=True))\n",
    "model.add(TimeDistributed(Dense(num_features, activation='softmax')))    \n",
    "\n",
    "model.compile(loss='categorical_crossentropy', optimizer='adam', metrics=['accuracy'])\n",
    "model.summary()"
   ]
  },
  {
   "cell_type": "markdown",
   "metadata": {},
   "source": [
    "# Vectorize and Devectorize"
   ]
  },
  {
   "cell_type": "code",
   "execution_count": 6,
   "metadata": {
    "colab": {},
    "colab_type": "code",
    "id": "Ci29YaA6vBN1"
   },
   "outputs": [
    {
     "name": "stdout",
     "output_type": "stream",
     "text": [
      "Text Example and Label: 10+63 73\n",
      "Vectorized Example and Label Shapes: (5, 11) (5, 11)\n"
     ]
    }
   ],
   "source": [
    "def vectorize_example(example, label):\n",
    "    \n",
    "    x = np.zeros((max_time_steps, num_features))\n",
    "    y = np.zeros((max_time_steps, num_features))\n",
    "    \n",
    "    #zero-padding the example and label to have same len as max_time_steps\n",
    "    diff_x = max_time_steps - len(example)\n",
    "    diff_y = max_time_steps - len(label)\n",
    "    \n",
    "    for i, c in enumerate(example):\n",
    "        x[diff_x+i, char_to_index[c]] = 1\n",
    "    for i in range(diff_x):\n",
    "        x[i, char_to_index['0']] = 1\n",
    "    for i, c in enumerate(label):\n",
    "        y[diff_y+i, char_to_index[c]] = 1\n",
    "    for i in range(diff_y):\n",
    "        y[i, char_to_index['0']] = 1\n",
    "        \n",
    "    return x, y\n",
    "\n",
    "e, l = generate_data()\n",
    "print('Text Example and Label:', e, l)\n",
    "x, y = vectorize_example(e, l)\n",
    "print('Vectorized Example and Label Shapes:', x.shape, y.shape)"
   ]
  },
  {
   "cell_type": "code",
   "execution_count": 7,
   "metadata": {
    "colab": {},
    "colab_type": "code",
    "id": "_nARKq-bvBN9"
   },
   "outputs": [
    {
     "data": {
      "text/plain": [
       "'10+63'"
      ]
     },
     "execution_count": 7,
     "metadata": {},
     "output_type": "execute_result"
    }
   ],
   "source": [
    "def devectorize_example(example):\n",
    "    result = [index_to_char[np.argmax(vec)] for i, vec in enumerate(example)]\n",
    "    return ''.join(result)\n",
    "\n",
    "devectorize_example(x)"
   ]
  },
  {
   "cell_type": "code",
   "execution_count": 8,
   "metadata": {
    "colab": {
     "base_uri": "https://localhost:8080/",
     "height": 34
    },
    "colab_type": "code",
    "id": "KCGUxNwNvBOA",
    "outputId": "a721451a-7f7c-42be-bdf0-0c96381f2eb2"
   },
   "outputs": [
    {
     "data": {
      "text/plain": [
       "'00073'"
      ]
     },
     "execution_count": 8,
     "metadata": {},
     "output_type": "execute_result"
    }
   ],
   "source": [
    "devectorize_example(y)"
   ]
  },
  {
   "cell_type": "markdown",
   "metadata": {},
   "source": [
    "## Task 5: Create Dataset\n",
    "___\n",
    "Note: If you are starting the notebook from this task, you can run cells from all previous tasks in the kernel by going to the top menu and then selecting Kernel > Restart and Run All\n",
    "___"
   ]
  },
  {
   "cell_type": "code",
   "execution_count": 9,
   "metadata": {
    "colab": {
     "base_uri": "https://localhost:8080/",
     "height": 34
    },
    "colab_type": "code",
    "id": "T5rdrhiVvBOI",
    "outputId": "426b3722-78cf-494f-8bbf-1cdf7eab3113"
   },
   "outputs": [
    {
     "name": "stdout",
     "output_type": "stream",
     "text": [
      "(2000, 5, 11) (2000, 5, 11)\n"
     ]
    }
   ],
   "source": [
    "def create_dataset(num_examples=2000):\n",
    "\n",
    "    x_train = np.zeros((num_examples, max_time_steps, num_features))\n",
    "    y_train = np.zeros((num_examples, max_time_steps, num_features))\n",
    "\n",
    "    for i in range(num_examples):\n",
    "        e, l = generate_data()\n",
    "        x, y = vectorize_example(e, l)\n",
    "        x_train[i] = x\n",
    "        y_train[i] = y\n",
    "    \n",
    "    return x_train, y_train\n",
    "\n",
    "x_train, y_train = create_dataset()\n",
    "print(x_train.shape, y_train.shape)"
   ]
  },
  {
   "cell_type": "code",
   "execution_count": 10,
   "metadata": {
    "colab": {
     "base_uri": "https://localhost:8080/",
     "height": 34
    },
    "colab_type": "code",
    "id": "RRwiuwcQvBOL",
    "outputId": "07591064-5c57-4adb-ccf6-c226457d2263"
   },
   "outputs": [
    {
     "data": {
      "text/plain": [
       "'32+19'"
      ]
     },
     "execution_count": 10,
     "metadata": {},
     "output_type": "execute_result"
    }
   ],
   "source": [
    "devectorize_example(x_train[0])"
   ]
  },
  {
   "cell_type": "code",
   "execution_count": 11,
   "metadata": {
    "colab": {
     "base_uri": "https://localhost:8080/",
     "height": 34
    },
    "colab_type": "code",
    "id": "cRUvtd0IvBOO",
    "outputId": "d07ce279-06ba-44c4-de91-0ec4fb551877"
   },
   "outputs": [
    {
     "data": {
      "text/plain": [
       "'00051'"
      ]
     },
     "execution_count": 11,
     "metadata": {},
     "output_type": "execute_result"
    }
   ],
   "source": [
    "devectorize_example(y_train[0])"
   ]
  },
  {
   "cell_type": "markdown",
   "metadata": {},
   "source": [
    "## Task 6: Training the Model\n",
    "___\n",
    "Note: If you are starting the notebook from this task, you can run cells from all previous tasks in the kernel by going to the top menu and then selecting Kernel > Restart and Run All\n",
    "___"
   ]
  },
  {
   "cell_type": "code",
   "execution_count": 12,
   "metadata": {
    "colab": {
     "base_uri": "https://localhost:8080/",
     "height": 2686
    },
    "colab_type": "code",
    "id": "S8HWRdiOvBOS",
    "outputId": "2365b11f-30e8-48cc-e940-4d3267771fbe"
   },
   "outputs": [
    {
     "name": "stdout",
     "output_type": "stream",
     "text": [
      "WARNING:tensorflow:From C:\\Users\\digvi\\Anaconda3\\lib\\site-packages\\tensorflow\\python\\ops\\math_grad.py:1250: add_dispatch_support.<locals>.wrapper (from tensorflow.python.ops.array_ops) is deprecated and will be removed in a future version.\n",
      "Instructions for updating:\n",
      "Use tf.where in 2.0, which has the same broadcast rule as np.where\n",
      "1.0149689245223998\n",
      "0.9790207195281982\n",
      "0.9440216112136841\n",
      "0.9029296469688416\n",
      "0.8666547536849976\n",
      "0.82814373254776\n",
      "0.7735479664802551\n",
      "0.7631277298927307\n",
      "0.7341361570358277\n",
      "0.7140837836265564\n",
      "0.7072999215126038\n",
      "0.6679725408554077\n",
      "0.6238920617103577\n",
      "0.5758296585083008\n",
      "0.5242422866821289\n",
      "0.4909771227836609\n",
      "0.46039018392562864\n",
      "0.4326554584503174\n",
      "0.43561357021331787\n",
      "0.3807370412349701\n",
      "0.3531480944156647\n",
      "0.3527732765674591\n",
      "0.31347395658493044\n",
      "0.29729501605033876\n",
      "0.2759977352619171\n",
      "0.3099179255962372\n",
      "0.26500235438346864\n",
      "0.2555989038944244\n",
      "0.23673492133617402\n",
      "0.23437965750694276\n",
      "0.2500717556476593\n",
      "0.2234712892770767\n",
      "0.24943262934684754\n",
      "0.2782700777053833\n",
      "0.23056010842323305\n",
      "0.2085524970293045\n",
      "0.16805161654949188\n",
      "0.1682869738340378\n",
      "0.1797723078727722\n",
      "0.15844111144542694\n",
      "0.15074337005615235\n",
      "0.15331506013870239\n",
      "0.15522752642631532\n",
      "0.15832903742790222\n",
      "0.15838591903448104\n",
      "0.17606188148260116\n",
      "0.272173582315445\n",
      "0.24024240493774415\n",
      "0.19147586226463317\n",
      "0.15567318201065064\n",
      "0.13304412484169006\n",
      "0.12398506999015808\n",
      "0.1221639010310173\n",
      "0.11833353549242019\n",
      "0.11491463273763657\n",
      "0.11869997322559357\n",
      "0.1128650215268135\n",
      "0.11598942041397095\n",
      "0.11234700918197632\n",
      "0.11548566997051239\n",
      "0.11115918934345245\n",
      "0.1101189374923706\n",
      "0.11087510466575623\n",
      "0.11214602530002594\n",
      "0.12204201757907868\n",
      "0.4927078127861023\n",
      "0.3318068850040436\n",
      "0.21642475426197053\n",
      "0.1576569038629532\n",
      "0.13353582382202148\n",
      "0.123454892039299\n",
      "0.10832446932792664\n",
      "0.10795735865831375\n",
      "0.10413912624120712\n",
      "0.10469300106167793\n",
      "0.10035114616155624\n",
      "0.10468981802463531\n",
      "0.10139992296695709\n",
      "0.10152198806405067\n",
      "0.10140827655792237\n",
      "0.10076321989297866\n",
      "0.09995328187942505\n",
      "0.09869017511606216\n",
      "0.10016700610518456\n",
      "0.09967036068439483\n",
      "0.09895596295595169\n",
      "0.09846111848950385\n",
      "0.09838580280542374\n",
      "0.09813608735799789\n",
      "0.09967444211244583\n",
      "0.09780290365219116\n",
      "0.10023982137441635\n",
      "0.09933513283729553\n",
      "0.09834558933973313\n",
      "0.10019461005926132\n",
      "0.09826037794351578\n",
      "0.09983882367610931\n",
      "0.09858313456177711\n",
      "0.0991618075966835\n",
      "0.1010473296046257\n",
      "0.09833542808890343\n"
     ]
    }
   ],
   "source": [
    "l_cb = LambdaCallback(\n",
    "    on_epoch_end= lambda e, l: print('{}'.format(l['val_loss'], end = ' _ '))\n",
    ")\n",
    "e_cb = EarlyStopping(monitor='val_loss', patience=10)\n",
    "\n",
    "history = model.fit(x_train, y_train, epochs=500, validation_split=0.2, verbose=False,\n",
    "         callbacks=[l_cb, e_cb])"
   ]
  },
  {
   "cell_type": "markdown",
   "metadata": {},
   "source": [
    "Create a test set and look at some predictions:"
   ]
  },
  {
   "cell_type": "code",
   "execution_count": 13,
   "metadata": {
    "colab": {
     "base_uri": "https://localhost:8080/",
     "height": 187
    },
    "colab_type": "code",
    "id": "tlNtu_9ZvBOY",
    "outputId": "82198555-f0e8-4a7a-9125-cc61cf4f4a26"
   },
   "outputs": [
    {
     "name": "stdout",
     "output_type": "stream",
     "text": [
      "\u001b[32mInput: 95+26, Out: 00121, Pred: 00121\u001b[0m\n",
      "\u001b[32mInput: 76+59, Out: 00135, Pred: 00135\u001b[0m\n",
      "\u001b[32mInput: 29+53, Out: 00082, Pred: 00082\u001b[0m\n",
      "\u001b[32mInput: 57+33, Out: 00090, Pred: 00090\u001b[0m\n",
      "\u001b[32mInput: 27+36, Out: 00063, Pred: 00063\u001b[0m\n",
      "\u001b[32mInput: 91+26, Out: 00117, Pred: 00117\u001b[0m\n",
      "\u001b[32mInput: 02+50, Out: 00052, Pred: 00052\u001b[0m\n",
      "\u001b[32mInput: 37+85, Out: 00122, Pred: 00122\u001b[0m\n",
      "\u001b[32mInput: 07+54, Out: 00061, Pred: 00061\u001b[0m\n",
      "\u001b[32mInput: 35+92, Out: 00127, Pred: 00127\u001b[0m\n",
      "\u001b[32mInput: 51+14, Out: 00065, Pred: 00065\u001b[0m\n",
      "\u001b[32mInput: 03+13, Out: 00016, Pred: 00016\u001b[0m\n",
      "\u001b[32mInput: 55+73, Out: 00128, Pred: 00128\u001b[0m\n",
      "\u001b[32mInput: 32+45, Out: 00077, Pred: 00077\u001b[0m\n",
      "\u001b[32mInput: 81+46, Out: 00127, Pred: 00127\u001b[0m\n",
      "\u001b[32mInput: 42+47, Out: 00089, Pred: 00089\u001b[0m\n",
      "\u001b[32mInput: 26+12, Out: 00038, Pred: 00038\u001b[0m\n",
      "\u001b[32mInput: 86+88, Out: 00174, Pred: 00174\u001b[0m\n",
      "\u001b[32mInput: 22+91, Out: 00113, Pred: 00113\u001b[0m\n",
      "\u001b[32mInput: 85+12, Out: 00097, Pred: 00097\u001b[0m\n",
      "\n",
      "Full sequence accuracy: 100.000 %\n"
     ]
    }
   ],
   "source": [
    "x_test, y_test = create_dataset(num_examples=20)\n",
    "preds = model.predict(x_test)\n",
    "full_seq_acc = 0\n",
    "\n",
    "for i, pred in enumerate(preds):\n",
    "    pred_str = devectorize_example(pred)\n",
    "    y_test_str = devectorize_example(y_test[i])\n",
    "    x_test_str = devectorize_example(x_test[i])\n",
    "    col = 'green' \n",
    "    if pred_str != y_test_str:\n",
    "        col = 'red'\n",
    "    full_seq_acc += 1/len(preds) * int(pred_str == y_test_str)\n",
    "    out = 'Input: {}, Out: {}, Pred: {}'.format(x_test_str, y_test_str, pred_str)\n",
    "    print(colored(out, col))\n",
    "print('\\nFull sequence accuracy: {:.3f} %'.format(100 * full_seq_acc))"
   ]
  },
  {
   "cell_type": "code",
   "execution_count": null,
   "metadata": {},
   "outputs": [],
   "source": []
  }
 ],
 "metadata": {
  "accelerator": "GPU",
  "colab": {
   "collapsed_sections": [],
   "name": "addition_simpleRNN.ipynb",
   "provenance": [],
   "version": "0.3.2"
  },
  "kernelspec": {
   "display_name": "Python 3",
   "language": "python",
   "name": "python3"
  },
  "language_info": {
   "codemirror_mode": {
    "name": "ipython",
    "version": 3
   },
   "file_extension": ".py",
   "mimetype": "text/x-python",
   "name": "python",
   "nbconvert_exporter": "python",
   "pygments_lexer": "ipython3",
   "version": "3.7.6"
  }
 },
 "nbformat": 4,
 "nbformat_minor": 1
}
